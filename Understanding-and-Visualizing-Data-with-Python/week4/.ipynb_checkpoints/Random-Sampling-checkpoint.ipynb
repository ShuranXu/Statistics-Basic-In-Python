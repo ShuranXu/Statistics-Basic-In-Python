{
 "cells": [
  {
   "cell_type": "code",
   "execution_count": 1,
   "metadata": {},
   "outputs": [],
   "source": [
    "import random\n",
    "import numpy as np"
   ]
  },
  {
   "cell_type": "code",
   "execution_count": 2,
   "metadata": {},
   "outputs": [],
   "source": [
    "#random sampling from a population\n",
    "mu = 0    \n",
    "sigma = 1\n",
    "Population = [random.normalvariate(mu, sigma) for _ in range(10000)]"
   ]
  },
  {
   "cell_type": "code",
   "execution_count": 3,
   "metadata": {},
   "outputs": [
    {
     "data": {
      "text/plain": [
       "0.014278373120782182"
      ]
     },
     "execution_count": 3,
     "metadata": {},
     "output_type": "execute_result"
    }
   ],
   "source": [
    "'''\n",
    "Simple Random Sampling (SRS) has the following properties:\n",
    "\n",
    "Start with known list of N population units, and randomly select n units from the list\n",
    "Every unit has equal probability of selection = n/N\n",
    "All possible samples of size n are equaly likely\n",
    "Estimates of means, proportions, and totals based on SRS are UNBIASED \n",
    "(meaning they are equal to the population values on average)\n",
    "\n",
    "'''\n",
    "# random.sample(population, k):\n",
    "# Return a k length list of unique elements chosen from the population sequence or set. \n",
    "# Used for random sampling without replacement.\n",
    "\n",
    "#create 2 simple random samples\n",
    "SampleA = random.sample(Population, 500)\n",
    "SampleB = random.sample(Population, 500)\n",
    "\n",
    "#generate simple random samples 1000 times, calculate the mean for each sample, and calculate the mean of these means\n",
    "means = [np.mean(random.sample(Population, 1000)) for _ in range(100)]\n",
    "np.mean(means)"
   ]
  },
  {
   "cell_type": "code",
   "execution_count": null,
   "metadata": {},
   "outputs": [],
   "source": []
  }
 ],
 "metadata": {
  "kernelspec": {
   "display_name": "Python 3",
   "language": "python",
   "name": "python3"
  },
  "language_info": {
   "codemirror_mode": {
    "name": "ipython",
    "version": 3
   },
   "file_extension": ".py",
   "mimetype": "text/x-python",
   "name": "python",
   "nbconvert_exporter": "python",
   "pygments_lexer": "ipython3",
   "version": "3.7.6"
  }
 },
 "nbformat": 4,
 "nbformat_minor": 4
}

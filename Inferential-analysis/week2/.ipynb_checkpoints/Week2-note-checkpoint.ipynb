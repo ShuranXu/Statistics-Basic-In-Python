{
 "cells": [
  {
   "cell_type": "code",
   "execution_count": 1,
   "metadata": {},
   "outputs": [],
   "source": [
    "import numpy as np"
   ]
  },
  {
   "cell_type": "code",
   "execution_count": 2,
   "metadata": {},
   "outputs": [],
   "source": [
    "# Manually calculate 95% confidence interval\n",
    "tstar = 1.96\n",
    "p = .85\n",
    "n = 659\n",
    "\n",
    "se = np.sqrt((p * (1 - p))/n)\n",
    "lcb = p - tstar * se\n",
    "ucb = p + tstar * se\n",
    "confint = (lcb, ucb)"
   ]
  },
  {
   "cell_type": "code",
   "execution_count": 3,
   "metadata": {},
   "outputs": [
    {
     "data": {
      "text/plain": [
       "(-0.23336356545788706, -0.18346243454211297)"
      ]
     },
     "execution_count": 3,
     "metadata": {},
     "output_type": "execute_result"
    }
   ],
   "source": [
    "# Calculate 95% confidence interval for the difference of two population proportions\n",
    "p = .304845\n",
    "n = 2972\n",
    "se_female = np.sqrt(p * (1 - p)/n)\n",
    "p = .513258\n",
    "n = 2753\n",
    "se_male = np.sqrt(p * (1 - p)/ n)\n",
    "se_diff = np.sqrt(se_female**2 + se_male**2)\n",
    "d = .304845 - .513258\n",
    "lcb = d - 1.96 * se_diff\n",
    "ucb = d + 1.96 * se_diff\n",
    "lcb, ucb"
   ]
  },
  {
   "cell_type": "code",
   "execution_count": 4,
   "metadata": {},
   "outputs": [
    {
     "data": {
      "text/plain": [
       "(0.798509725476467, 1.5252382745235278)"
      ]
     },
     "execution_count": 4,
     "metadata": {},
     "output_type": "execute_result"
    }
   ],
   "source": [
    "# Calculate 95% confidence interval for the difference of Two Population Means\n",
    "f_sd = 7.753319\n",
    "m_sd = 6.252568\n",
    "sem_female = f_sd / np.sqrt(2976)\n",
    "sem_male = m_sd / np.sqrt(2759)\n",
    "sem_diff = np.sqrt(sem_female**2 + sem_male**2)\n",
    "f_mean = 29.939946\n",
    "m_mean = 28.778072\n",
    "d = f_mean - m_mean\n",
    "lcb = d - 1.96 * sem_diff\n",
    "ucb = d + 1.96 * sem_diff\n",
    "lcb, ucb"
   ]
  },
  {
   "cell_type": "code",
   "execution_count": null,
   "metadata": {},
   "outputs": [],
   "source": []
  }
 ],
 "metadata": {
  "kernelspec": {
   "display_name": "Python 3",
   "language": "python",
   "name": "python3"
  },
  "language_info": {
   "codemirror_mode": {
    "name": "ipython",
    "version": 3
   },
   "file_extension": ".py",
   "mimetype": "text/x-python",
   "name": "python",
   "nbconvert_exporter": "python",
   "pygments_lexer": "ipython3",
   "version": "3.7.6"
  }
 },
 "nbformat": 4,
 "nbformat_minor": 4
}

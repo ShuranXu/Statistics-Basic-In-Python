{
 "cells": [
  {
   "cell_type": "code",
   "execution_count": 1,
   "metadata": {},
   "outputs": [],
   "source": [
    "import statsmodels.api as sm\n",
    "import numpy as np\n",
    "import pandas as pd\n",
    "import scipy.stats.distributions as dict\n",
    "import matplotlib.pyplot as plt\n",
    "import seaborn as sns"
   ]
  },
  {
   "cell_type": "code",
   "execution_count": 3,
   "metadata": {},
   "outputs": [
    {
     "data": {
      "text/plain": [
       "(2.571067795759113, 0.005069273865860533)"
      ]
     },
     "execution_count": 3,
     "metadata": {},
     "output_type": "execute_result"
    }
   ],
   "source": [
    "# One population proportion\n",
    "'''\n",
    "Population: Parents with a teenager (age 13-18)\n",
    "Parameter of Interest: p\n",
    "Null Hypothesis: p = 0.52\n",
    "Alternative Hypthosis: p > 0.52 (note that this is a one-sided test)\n",
    "\n",
    "1018 Parents\n",
    "\n",
    "56% believe that their teenager’s lack of sleep is caused due to electronics and social media.\n",
    "\n",
    "'''\n",
    "n = 1018\n",
    "pnull = .52\n",
    "phat = .56\n",
    "# Test for proportions based on normal (z) test\n",
    "test_statistic, p_value = sm.stats.proportions_ztest(phat * n, n, pnull, alternative='larger')\n",
    "test_statistic, p_value"
   ]
  },
  {
   "cell_type": "code",
   "execution_count": 4,
   "metadata": {},
   "outputs": [
    {
     "data": {
      "text/plain": [
       "(-0.5102529572298882, 0.6100778544601533, 553.0)"
      ]
     },
     "execution_count": 4,
     "metadata": {},
     "output_type": "execute_result"
    }
   ],
   "source": [
    "# Difference in Population Proportions\n",
    "\n",
    "'''\n",
    "Populations: All parents of black children age 6-18 and all parents of Hispanic children age 6-18\n",
    "Parameter of Interest: p1 - p2, where p1 = black and p2 = hispanic\n",
    "Null Hypothesis: p1 - p2 = 0\n",
    "Alternative Hypthosis: p1 - p2  ≠  = 0\n",
    "\n",
    "247 Parents of Black Children 36.8% of parents report that their child has had some swimming lessons.\n",
    "\n",
    "308 Parents of Hispanic Children 38.9% of parents report that their child has had some swimming lessons.\n",
    "\n",
    "'''\n",
    "\n",
    "n1 = 247\n",
    "p1 = .37\n",
    "\n",
    "n2 = 308\n",
    "p2 = .39\n",
    "\n",
    "population1 = np.random.binomial(1, p1, n1)\n",
    "population2 = np.random.binomial(1, p2, n2)\n",
    "\n",
    "# T-test independent sample\n",
    "ttest, p_val, df = sm.stats.ttest_ind(population1, population2)\n",
    "ttest,  p_val, df"
   ]
  },
  {
   "cell_type": "code",
   "execution_count": null,
   "metadata": {},
   "outputs": [],
   "source": []
  },
  {
   "cell_type": "code",
   "execution_count": null,
   "metadata": {},
   "outputs": [],
   "source": []
  },
  {
   "cell_type": "code",
   "execution_count": null,
   "metadata": {},
   "outputs": [],
   "source": []
  },
  {
   "cell_type": "code",
   "execution_count": null,
   "metadata": {},
   "outputs": [],
   "source": []
  }
 ],
 "metadata": {
  "kernelspec": {
   "display_name": "Python 3",
   "language": "python",
   "name": "python3"
  },
  "language_info": {
   "codemirror_mode": {
    "name": "ipython",
    "version": 3
   },
   "file_extension": ".py",
   "mimetype": "text/x-python",
   "name": "python",
   "nbconvert_exporter": "python",
   "pygments_lexer": "ipython3",
   "version": "3.7.6"
  }
 },
 "nbformat": 4,
 "nbformat_minor": 4
}
